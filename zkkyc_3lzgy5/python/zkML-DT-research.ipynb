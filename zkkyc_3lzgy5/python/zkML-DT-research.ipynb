{
 "cells": [
  {
   "cell_type": "code",
   "execution_count": 2,
   "metadata": {
    "id": "GMa0_O1qDF6i"
   },
   "outputs": [
    {
     "name": "stderr",
     "output_type": "stream",
     "text": [
      "/var/folders/v3/jtz36g_j73j2vk9zj77mp6dr0000gn/T/ipykernel_76212/2900893821.py:1: DeprecationWarning: \n",
      "Pyarrow will become a required dependency of pandas in the next major release of pandas (pandas 3.0),\n",
      "(to allow more performant data types, such as the Arrow string type, and better interoperability with other libraries)\n",
      "but was not found to be installed on your system.\n",
      "If this would cause problems for you,\n",
      "please provide us feedback at https://github.com/pandas-dev/pandas/issues/54466\n",
      "        \n",
      "  import pandas as pd\n"
     ]
    }
   ],
   "source": [
    "import pandas as pd\n",
    "import names as nm\n",
    "import random"
   ]
  },
  {
   "cell_type": "markdown",
   "metadata": {
    "id": "w4r4VO4uvdRi"
   },
   "source": [
    "## Synthetic dataset"
   ]
  },
  {
   "cell_type": "code",
   "execution_count": 3,
   "metadata": {
    "colab": {
     "base_uri": "https://localhost:8080/"
    },
    "id": "tR1gdXcHHtAx",
    "outputId": "2398971d-d82d-4e0d-abb8-dd298919936c"
   },
   "outputs": [
    {
     "data": {
      "text/plain": [
       "(['Brenda', 'Sonia', 'Jack', 'Marco', 'Domonique'],\n",
       " ['Newton', 'Martin', 'Phillips', 'Bender', 'Coria'])"
      ]
     },
     "execution_count": 3,
     "metadata": {},
     "output_type": "execute_result"
    }
   ],
   "source": [
    "def get_names(is_first_name, amount):\n",
    "  names = []\n",
    "  while len(names) < amount:\n",
    "    name = nm.get_first_name() if is_first_name else nm.get_last_name()\n",
    "    if name not in names:\n",
    "      names.append(name)\n",
    "  return names\n",
    "   \n",
    "first_names = get_names(True, 100)\n",
    "last_names = get_names(False, 400)\n",
    "first_names[:5], last_names[:5]"
   ]
  },
  {
   "cell_type": "code",
   "execution_count": 4,
   "metadata": {
    "id": "Hq6FgI6FcQ_4"
   },
   "outputs": [],
   "source": [
    "all_jurisdictions = ['Australia', 'Belgium', 'Brazil', 'Bulgaria', 'Cyprus', 'Czech Republic',\n",
    "                  'Guatemala', 'Mexico', 'Honduras', 'Costa Rica', 'Colombia', 'Greece', 'Hungary',\n",
    "                  'India', 'Indonesia', 'Ireland', 'Italy', 'Syria', 'Japan', 'Latvia', 'Lithuania',\n",
    "                  'Luxembourg', 'Malta', 'Jamaica', 'Ireland', 'Turkey', 'United Kingdom',\n",
    "                  'United States']"
   ]
  },
  {
   "cell_type": "code",
   "execution_count": 5,
   "metadata": {
    "colab": {
     "base_uri": "https://localhost:8080/",
     "height": 419
    },
    "id": "qJ-qhEBodXhA",
    "outputId": "d5ad3392-d18d-424b-bfe5-4dc1d5e46b40"
   },
   "outputs": [
    {
     "data": {
      "text/html": [
       "<div>\n",
       "<style scoped>\n",
       "    .dataframe tbody tr th:only-of-type {\n",
       "        vertical-align: middle;\n",
       "    }\n",
       "\n",
       "    .dataframe tbody tr th {\n",
       "        vertical-align: top;\n",
       "    }\n",
       "\n",
       "    .dataframe thead th {\n",
       "        text-align: right;\n",
       "    }\n",
       "</style>\n",
       "<table border=\"1\" class=\"dataframe\">\n",
       "  <thead>\n",
       "    <tr style=\"text-align: right;\">\n",
       "      <th></th>\n",
       "      <th>first_name</th>\n",
       "      <th>last_name</th>\n",
       "      <th>country</th>\n",
       "    </tr>\n",
       "  </thead>\n",
       "  <tbody>\n",
       "    <tr>\n",
       "      <th>0</th>\n",
       "      <td>Timothy</td>\n",
       "      <td>Kirby</td>\n",
       "      <td>Syria</td>\n",
       "    </tr>\n",
       "    <tr>\n",
       "      <th>1</th>\n",
       "      <td>Jacinta</td>\n",
       "      <td>Mcgill</td>\n",
       "      <td>Italy</td>\n",
       "    </tr>\n",
       "    <tr>\n",
       "      <th>2</th>\n",
       "      <td>Yvette</td>\n",
       "      <td>Hamilton</td>\n",
       "      <td>Brazil</td>\n",
       "    </tr>\n",
       "    <tr>\n",
       "      <th>3</th>\n",
       "      <td>Mathew</td>\n",
       "      <td>Whitaker</td>\n",
       "      <td>Brazil</td>\n",
       "    </tr>\n",
       "    <tr>\n",
       "      <th>4</th>\n",
       "      <td>Mary</td>\n",
       "      <td>Moore</td>\n",
       "      <td>Greece</td>\n",
       "    </tr>\n",
       "    <tr>\n",
       "      <th>...</th>\n",
       "      <td>...</td>\n",
       "      <td>...</td>\n",
       "      <td>...</td>\n",
       "    </tr>\n",
       "    <tr>\n",
       "      <th>495</th>\n",
       "      <td>Mathew</td>\n",
       "      <td>Reynolds</td>\n",
       "      <td>Brazil</td>\n",
       "    </tr>\n",
       "    <tr>\n",
       "      <th>496</th>\n",
       "      <td>Victor</td>\n",
       "      <td>Ruot</td>\n",
       "      <td>Luxembourg</td>\n",
       "    </tr>\n",
       "    <tr>\n",
       "      <th>497</th>\n",
       "      <td>Marco</td>\n",
       "      <td>Mcgill</td>\n",
       "      <td>Colombia</td>\n",
       "    </tr>\n",
       "    <tr>\n",
       "      <th>498</th>\n",
       "      <td>Julio</td>\n",
       "      <td>Sharrow</td>\n",
       "      <td>Honduras</td>\n",
       "    </tr>\n",
       "    <tr>\n",
       "      <th>499</th>\n",
       "      <td>Ricky</td>\n",
       "      <td>Hedgecock</td>\n",
       "      <td>Turkey</td>\n",
       "    </tr>\n",
       "  </tbody>\n",
       "</table>\n",
       "<p>500 rows × 3 columns</p>\n",
       "</div>"
      ],
      "text/plain": [
       "    first_name  last_name     country\n",
       "0      Timothy      Kirby       Syria\n",
       "1      Jacinta     Mcgill       Italy\n",
       "2       Yvette   Hamilton      Brazil\n",
       "3       Mathew   Whitaker      Brazil\n",
       "4         Mary      Moore      Greece\n",
       "..         ...        ...         ...\n",
       "495     Mathew   Reynolds      Brazil\n",
       "496     Victor       Ruot  Luxembourg\n",
       "497      Marco     Mcgill    Colombia\n",
       "498      Julio    Sharrow    Honduras\n",
       "499      Ricky  Hedgecock      Turkey\n",
       "\n",
       "[500 rows x 3 columns]"
      ]
     },
     "execution_count": 5,
     "metadata": {},
     "output_type": "execute_result"
    }
   ],
   "source": [
    "def generate_people_dataset(num):\n",
    "  data = []\n",
    "  for _ in range(num):\n",
    "    data.append((random.choice(first_names),random.choice(last_names), random.choice(all_jurisdictions)))\n",
    "  return pd.DataFrame(data, columns=['first_name', 'last_name', 'country'])\n",
    "\n",
    "df_people = generate_people_dataset(500)\n",
    "df_people"
   ]
  },
  {
   "cell_type": "markdown",
   "metadata": {
    "id": "r-aPaXyFvngR"
   },
   "source": [
    "## Creating features for KYC synthetic dataset"
   ]
  },
  {
   "cell_type": "code",
   "execution_count": 6,
   "metadata": {
    "colab": {
     "base_uri": "https://localhost:8080/"
    },
    "id": "0ddz4dA4TxcA",
    "outputId": "f7d63c6f-5240-4786-f2fb-9a222e30dae5"
   },
   "outputs": [
    {
     "data": {
      "text/plain": [
       "['Newton',\n",
       " 'Martin',\n",
       " 'Phillips',\n",
       " 'Bender',\n",
       " 'Coria',\n",
       " 'Holcomb',\n",
       " 'Elizondo',\n",
       " 'Martinez',\n",
       " 'Bartlett',\n",
       " 'Basile',\n",
       " 'Kimpton',\n",
       " 'Thomas',\n",
       " 'Still',\n",
       " 'Mcbratney',\n",
       " 'Fennell',\n",
       " 'Zody',\n",
       " 'Miller',\n",
       " 'Jones',\n",
       " 'Noffsinger',\n",
       " 'Reynolds',\n",
       " 'Hare',\n",
       " 'Curry',\n",
       " 'Hopper',\n",
       " 'Silva',\n",
       " 'Hansen',\n",
       " 'Cavazos',\n",
       " 'Pritchard',\n",
       " 'Whitaker',\n",
       " 'Duran',\n",
       " 'Peschel']"
      ]
     },
     "execution_count": 6,
     "metadata": {},
     "output_type": "execute_result"
    }
   ],
   "source": [
    "# to track relatives if money laundering goes through them too\n",
    "famous_money_laundering_lastnames = last_names[:30]\n",
    "famous_money_laundering_lastnames"
   ]
  },
  {
   "cell_type": "code",
   "execution_count": 7,
   "metadata": {
    "id": "BrunUiKMKm3b"
   },
   "outputs": [],
   "source": [
    "# Random example of prohibited jurisdictions for specific event\n",
    "prohibited_jurisdictions = ['United States', 'Syria']                "
   ]
  },
  {
   "cell_type": "code",
   "execution_count": 8,
   "metadata": {
    "colab": {
     "base_uri": "https://localhost:8080/",
     "height": 419
    },
    "id": "7snrz3sDKoGO",
    "outputId": "49a5e5eb-69f7-4312-d236-06f9f37810de"
   },
   "outputs": [
    {
     "data": {
      "text/html": [
       "<div>\n",
       "<style scoped>\n",
       "    .dataframe tbody tr th:only-of-type {\n",
       "        vertical-align: middle;\n",
       "    }\n",
       "\n",
       "    .dataframe tbody tr th {\n",
       "        vertical-align: top;\n",
       "    }\n",
       "\n",
       "    .dataframe thead th {\n",
       "        text-align: right;\n",
       "    }\n",
       "</style>\n",
       "<table border=\"1\" class=\"dataframe\">\n",
       "  <thead>\n",
       "    <tr style=\"text-align: right;\">\n",
       "      <th></th>\n",
       "      <th>possible_relative_for_money_laundering</th>\n",
       "      <th>is_prohibited_jurisdiction</th>\n",
       "      <th>with_vpn</th>\n",
       "      <th>sending_time_sec</th>\n",
       "      <th>photo_quality</th>\n",
       "      <th>pass_kyc</th>\n",
       "    </tr>\n",
       "  </thead>\n",
       "  <tbody>\n",
       "    <tr>\n",
       "      <th>0</th>\n",
       "      <td>False</td>\n",
       "      <td>True</td>\n",
       "      <td>True</td>\n",
       "      <td>102</td>\n",
       "      <td>7</td>\n",
       "      <td>False</td>\n",
       "    </tr>\n",
       "    <tr>\n",
       "      <th>1</th>\n",
       "      <td>False</td>\n",
       "      <td>False</td>\n",
       "      <td>False</td>\n",
       "      <td>44</td>\n",
       "      <td>1</td>\n",
       "      <td>True</td>\n",
       "    </tr>\n",
       "    <tr>\n",
       "      <th>2</th>\n",
       "      <td>False</td>\n",
       "      <td>False</td>\n",
       "      <td>False</td>\n",
       "      <td>85</td>\n",
       "      <td>10</td>\n",
       "      <td>False</td>\n",
       "    </tr>\n",
       "    <tr>\n",
       "      <th>3</th>\n",
       "      <td>True</td>\n",
       "      <td>False</td>\n",
       "      <td>False</td>\n",
       "      <td>170</td>\n",
       "      <td>4</td>\n",
       "      <td>False</td>\n",
       "    </tr>\n",
       "    <tr>\n",
       "      <th>4</th>\n",
       "      <td>False</td>\n",
       "      <td>False</td>\n",
       "      <td>False</td>\n",
       "      <td>19</td>\n",
       "      <td>4</td>\n",
       "      <td>True</td>\n",
       "    </tr>\n",
       "    <tr>\n",
       "      <th>...</th>\n",
       "      <td>...</td>\n",
       "      <td>...</td>\n",
       "      <td>...</td>\n",
       "      <td>...</td>\n",
       "      <td>...</td>\n",
       "      <td>...</td>\n",
       "    </tr>\n",
       "    <tr>\n",
       "      <th>495</th>\n",
       "      <td>True</td>\n",
       "      <td>False</td>\n",
       "      <td>False</td>\n",
       "      <td>159</td>\n",
       "      <td>6</td>\n",
       "      <td>True</td>\n",
       "    </tr>\n",
       "    <tr>\n",
       "      <th>496</th>\n",
       "      <td>False</td>\n",
       "      <td>False</td>\n",
       "      <td>False</td>\n",
       "      <td>168</td>\n",
       "      <td>0</td>\n",
       "      <td>False</td>\n",
       "    </tr>\n",
       "    <tr>\n",
       "      <th>497</th>\n",
       "      <td>False</td>\n",
       "      <td>False</td>\n",
       "      <td>False</td>\n",
       "      <td>94</td>\n",
       "      <td>4</td>\n",
       "      <td>True</td>\n",
       "    </tr>\n",
       "    <tr>\n",
       "      <th>498</th>\n",
       "      <td>False</td>\n",
       "      <td>False</td>\n",
       "      <td>False</td>\n",
       "      <td>107</td>\n",
       "      <td>6</td>\n",
       "      <td>True</td>\n",
       "    </tr>\n",
       "    <tr>\n",
       "      <th>499</th>\n",
       "      <td>False</td>\n",
       "      <td>False</td>\n",
       "      <td>False</td>\n",
       "      <td>105</td>\n",
       "      <td>6</td>\n",
       "      <td>True</td>\n",
       "    </tr>\n",
       "  </tbody>\n",
       "</table>\n",
       "<p>500 rows × 6 columns</p>\n",
       "</div>"
      ],
      "text/plain": [
       "     possible_relative_for_money_laundering  is_prohibited_jurisdiction  \\\n",
       "0                                     False                        True   \n",
       "1                                     False                       False   \n",
       "2                                     False                       False   \n",
       "3                                      True                       False   \n",
       "4                                     False                       False   \n",
       "..                                      ...                         ...   \n",
       "495                                    True                       False   \n",
       "496                                   False                       False   \n",
       "497                                   False                       False   \n",
       "498                                   False                       False   \n",
       "499                                   False                       False   \n",
       "\n",
       "     with_vpn  sending_time_sec  photo_quality  pass_kyc  \n",
       "0        True               102              7     False  \n",
       "1       False                44              1      True  \n",
       "2       False                85             10     False  \n",
       "3       False               170              4     False  \n",
       "4       False                19              4      True  \n",
       "..        ...               ...            ...       ...  \n",
       "495     False               159              6      True  \n",
       "496     False               168              0     False  \n",
       "497     False                94              4      True  \n",
       "498     False               107              6      True  \n",
       "499     False               105              6      True  \n",
       "\n",
       "[500 rows x 6 columns]"
      ]
     },
     "execution_count": 8,
     "metadata": {},
     "output_type": "execute_result"
    }
   ],
   "source": [
    "def random_bool_with(percentage):\n",
    "  return random.randint(1, 100) < percentage\n",
    "\n",
    "def generate_feature_dataset():\n",
    "  data = []\n",
    "  for i, row in df_people.iterrows():\n",
    "    pass_kyc = True\n",
    "    features = {}\n",
    "\n",
    "    # Money launderer's namesake could potentially be his relative\n",
    "    features['possible_relative_for_money_laundering'] = (row['last_name'] in famous_money_laundering_lastnames)\n",
    "    if features['possible_relative_for_money_laundering']:\n",
    "      pass_kyc &= random_bool_with(percentage=60)\n",
    "\n",
    "    # If a person is from a prohibited jurisdiction for this event, then KYC fails\n",
    "    features['is_prohibited_jurisdiction'] = (row['country'] in prohibited_jurisdictions)\n",
    "    if features['is_prohibited_jurisdiction']:\n",
    "      pass_kyc = False\n",
    "\n",
    "    # Using a VPN to hide your true jurisdiction is suspect\n",
    "    features['with_vpn'] = random_bool_with(percentage=20)\n",
    "    if features['with_vpn']:\n",
    "      pass_kyc &= random_bool_with(percentage=85)\n",
    "\n",
    "    # If a large amount of time is spent on KYC, it is suspicious\n",
    "    # Also, if the sending time is close to zero, then it is possible bot/script\n",
    "    features['sending_time_sec'] = random.randint(0, 200)\n",
    "    if features['sending_time_sec'] > 160:\n",
    "      pass_kyc &= random_bool_with(percentage=70)\n",
    "    if features['sending_time_sec'] < 5:\n",
    "      pass_kyc &= random_bool_with(percentage=10)\n",
    "\n",
    "    # If the photo of the document is perfect quality,\n",
    "    # then there is a high probability of a pre-prepared photo using virtual camera\n",
    "    features['photo_quality'] = random.randint(0, 10)\n",
    "    if features['photo_quality'] == 10:\n",
    "      pass_kyc &= random_bool_with(percentage=10)\n",
    "\n",
    "    \n",
    "    features['pass_kyc'] = pass_kyc\n",
    "    data.append(features)\n",
    "  return pd.DataFrame(data)\n",
    "\n",
    "df = generate_feature_dataset()\n",
    "df  "
   ]
  },
  {
   "cell_type": "markdown",
   "metadata": {
    "id": "OfaLz6L1vM-4"
   },
   "source": [
    "## Train Model(DecisionTreeClassifier) using features from our synthetic dataset"
   ]
  },
  {
   "cell_type": "code",
   "execution_count": 9,
   "metadata": {
    "colab": {
     "base_uri": "https://localhost:8080/"
    },
    "id": "npx-F4q3urnb",
    "outputId": "2459c713-96a1-4795-8452-5afd9593904f"
   },
   "outputs": [
    {
     "data": {
      "text/plain": [
       "(400, 100)"
      ]
     },
     "execution_count": 9,
     "metadata": {},
     "output_type": "execute_result"
    }
   ],
   "source": [
    "from sklearn import tree\n",
    "from sklearn.model_selection import train_test_split\n",
    "from sklearn.metrics import f1_score\n",
    "\n",
    "y = df['pass_kyc']\n",
    "X = df.drop(columns=['pass_kyc'])\n",
    "x_train, x_test, y_train, y_test = train_test_split(X, y, test_size=0.2, random_state=42)\n",
    "len(x_train), len(x_test)"
   ]
  },
  {
   "cell_type": "code",
   "execution_count": 10,
   "metadata": {
    "id": "XEn-tDIaxXFT"
   },
   "outputs": [],
   "source": [
    "clf = tree.DecisionTreeClassifier()\n",
    "clf = clf.fit(x_train, y_train)"
   ]
  },
  {
   "cell_type": "code",
   "execution_count": 11,
   "metadata": {
    "colab": {
     "base_uri": "https://localhost:8080/"
    },
    "id": "XapQOBh7wtYd",
    "outputId": "e938a1ab-bf7f-4041-98ec-5c433ed8ca0d"
   },
   "outputs": [
    {
     "name": "stdout",
     "output_type": "stream",
     "text": [
      "f1-score: 0.9426751592356688\n"
     ]
    }
   ],
   "source": [
    "y_pred = clf.predict(x_test)\n",
    "print(\"f1-score:\", f1_score(y_test, y_pred))"
   ]
  },
  {
   "cell_type": "markdown",
   "metadata": {
    "id": "M7c_pwigRRD7"
   },
   "source": [
    "## Converting DecisionTree model to Leo programming language"
   ]
  },
  {
   "cell_type": "code",
   "execution_count": 12,
   "metadata": {
    "colab": {
     "base_uri": "https://localhost:8080/"
    },
    "id": "wQSE_0WEzDsu",
    "outputId": "228ab4af-be19-4f63-b7e4-2a3022bc6574"
   },
   "outputs": [
    {
     "name": "stdout",
     "output_type": "stream",
     "text": [
      "program dt.aleo {\n",
      "\t// Code auto generated from DecisionTreeClassifier using dt_to_leo_code.py \n",
      "\ttransition main(p1: u32, p2: u32, p3: u32, p4: u32, p5: u32) -> public u32 {\n",
      "\t\tif (p2 < 1u32) {\n",
      "\t\t\tif (p5 < 10u32) {\n",
      "\t\t\t\tif (p4 < 164u32) {\n",
      "\t\t\t\t\tif (p4 < 5u32) {\n",
      "\t\t\t\t\t\treturn 0u32;\n",
      "\t\t\t\t\t} else {\n",
      "\t\t\t\t\t\tif (p1 < 1u32) {\n",
      "\t\t\t\t\t\t\tif (p4 < 156u32) {\n",
      "\t\t\t\t\t\t\t\tif (p3 < 1u32) {\n",
      "\t\t\t\t\t\t\t\t\treturn 1u32;\n",
      "\t\t\t\t\t\t\t\t} else {\n",
      "\t\t\t\t\t\t\t\t\tif (p4 < 85u32) {\n",
      "\t\t\t\t\t\t\t\t\t\treturn 1u32;\n",
      "\t\t\t\t\t\t\t\t\t} else {\n",
      "\t\t\t\t\t\t\t\t\t\tif (p4 < 88u32) {\n",
      "\t\t\t\t\t\t\t\t\t\t\treturn 0u32;\n",
      "\t\t\t\t\t\t\t\t\t\t} else {\n",
      "\t\t\t\t\t\t\t\t\t\t\tif (p4 <= 133u32) {\n",
      "\t\t\t\t\t\t\t\t\t\t\t\treturn 1u32;\n",
      "\t\t\t\t\t\t\t\t\t\t\t} else {\n",
      "\t\t\t\t\t\t\t\t\t\t\t\tif (p4 < 135u32) {\n",
      "\t\t\t\t\t\t\t\t\t\t\t\t\treturn 0u32;\n",
      "\t\t\t\t\t\t\t\t\t\t\t\t} else {\n",
      "\t\t\t\t\t\t\t\t\t\t\t\t\treturn 1u32;\n",
      "\t\t\t\t\t\t\t\t\t\t\t\t}\n",
      "\t\t\t\t\t\t\t\t\t\t\t}\n",
      "\t\t\t\t\t\t\t\t\t\t}\n",
      "\t\t\t\t\t\t\t\t\t}\n",
      "\t\t\t\t\t\t\t\t}\n",
      "\t\t\t\t\t\t\t} else {\n",
      "\t\t\t\t\t\t\t\tif (p3 < 1u32) {\n",
      "\t\t\t\t\t\t\t\t\tif (p5 < 9u32) {\n",
      "\t\t\t\t\t\t\t\t\t\treturn 1u32;\n",
      "\t\t\t\t\t\t\t\t\t} else {\n",
      "\t\t\t\t\t\t\t\t\t\tif (p4 < 161u32) {\n",
      "\t\t\t\t\t\t\t\t\t\t\treturn 1u32;\n",
      "\t\t\t\t\t\t\t\t\t\t} else {\n",
      "\t\t\t\t\t\t\t\t\t\t\tif (p4 < 162u32) {\n",
      "\t\t\t\t\t\t\t\t\t\t\t\treturn 0u32;\n",
      "\t\t\t\t\t\t\t\t\t\t\t} else {\n",
      "\t\t\t\t\t\t\t\t\t\t\t\treturn 1u32;\n",
      "\t\t\t\t\t\t\t\t\t\t\t}\n",
      "\t\t\t\t\t\t\t\t\t\t}\n",
      "\t\t\t\t\t\t\t\t\t}\n",
      "\t\t\t\t\t\t\t\t} else {\n",
      "\t\t\t\t\t\t\t\t\treturn 0u32;\n",
      "\t\t\t\t\t\t\t\t}\n",
      "\t\t\t\t\t\t\t}\n",
      "\t\t\t\t\t\t} else {\n",
      "\t\t\t\t\t\t\tif (p4 < 105u32) {\n",
      "\t\t\t\t\t\t\t\tif (p4 <= 32u32) {\n",
      "\t\t\t\t\t\t\t\t\tif (p5 <= 5u32) {\n",
      "\t\t\t\t\t\t\t\t\t\treturn 0u32;\n",
      "\t\t\t\t\t\t\t\t\t} else {\n",
      "\t\t\t\t\t\t\t\t\t\treturn 1u32;\n",
      "\t\t\t\t\t\t\t\t\t}\n",
      "\t\t\t\t\t\t\t\t} else {\n",
      "\t\t\t\t\t\t\t\t\tif (p4 <= 87u32) {\n",
      "\t\t\t\t\t\t\t\t\t\treturn 1u32;\n",
      "\t\t\t\t\t\t\t\t\t} else {\n",
      "\t\t\t\t\t\t\t\t\t\tif (p4 <= 94u32) {\n",
      "\t\t\t\t\t\t\t\t\t\t\treturn 0u32;\n",
      "\t\t\t\t\t\t\t\t\t\t} else {\n",
      "\t\t\t\t\t\t\t\t\t\t\treturn 1u32;\n",
      "\t\t\t\t\t\t\t\t\t\t}\n",
      "\t\t\t\t\t\t\t\t\t}\n",
      "\t\t\t\t\t\t\t\t}\n",
      "\t\t\t\t\t\t\t} else {\n",
      "\t\t\t\t\t\t\t\tif (p4 <= 135u32) {\n",
      "\t\t\t\t\t\t\t\t\tif (p5 < 3u32) {\n",
      "\t\t\t\t\t\t\t\t\t\treturn 1u32;\n",
      "\t\t\t\t\t\t\t\t\t} else {\n",
      "\t\t\t\t\t\t\t\t\t\treturn 0u32;\n",
      "\t\t\t\t\t\t\t\t\t}\n",
      "\t\t\t\t\t\t\t\t} else {\n",
      "\t\t\t\t\t\t\t\t\treturn 1u32;\n",
      "\t\t\t\t\t\t\t\t}\n",
      "\t\t\t\t\t\t\t}\n",
      "\t\t\t\t\t\t}\n",
      "\t\t\t\t\t}\n",
      "\t\t\t\t} else {\n",
      "\t\t\t\t\tif (p4 <= 172u32) {\n",
      "\t\t\t\t\t\tif (p4 < 168u32) {\n",
      "\t\t\t\t\t\t\tif (p5 < 5u32) {\n",
      "\t\t\t\t\t\t\t\tif (p4 < 167u32) {\n",
      "\t\t\t\t\t\t\t\t\tif (p4 <= 165u32) {\n",
      "\t\t\t\t\t\t\t\t\t\treturn 0u32;\n",
      "\t\t\t\t\t\t\t\t\t} else {\n",
      "\t\t\t\t\t\t\t\t\t\treturn 1u32;\n",
      "\t\t\t\t\t\t\t\t\t}\n",
      "\t\t\t\t\t\t\t\t} else {\n",
      "\t\t\t\t\t\t\t\t\treturn 0u32;\n",
      "\t\t\t\t\t\t\t\t}\n",
      "\t\t\t\t\t\t\t} else {\n",
      "\t\t\t\t\t\t\t\treturn 1u32;\n",
      "\t\t\t\t\t\t\t}\n",
      "\t\t\t\t\t\t} else {\n",
      "\t\t\t\t\t\t\tif (p5 <= 8u32) {\n",
      "\t\t\t\t\t\t\t\tif (p5 <= 6u32) {\n",
      "\t\t\t\t\t\t\t\t\tif (p3 < 1u32) {\n",
      "\t\t\t\t\t\t\t\t\t\treturn 0u32;\n",
      "\t\t\t\t\t\t\t\t\t} else {\n",
      "\t\t\t\t\t\t\t\t\t\tif (p4 <= 170u32) {\n",
      "\t\t\t\t\t\t\t\t\t\t\tif (p5 <= 3u32) {\n",
      "\t\t\t\t\t\t\t\t\t\t\t\treturn 0u32;\n",
      "\t\t\t\t\t\t\t\t\t\t\t} else {\n",
      "\t\t\t\t\t\t\t\t\t\t\t\treturn 1u32;\n",
      "\t\t\t\t\t\t\t\t\t\t\t}\n",
      "\t\t\t\t\t\t\t\t\t\t} else {\n",
      "\t\t\t\t\t\t\t\t\t\t\treturn 0u32;\n",
      "\t\t\t\t\t\t\t\t\t\t}\n",
      "\t\t\t\t\t\t\t\t\t}\n",
      "\t\t\t\t\t\t\t\t} else {\n",
      "\t\t\t\t\t\t\t\t\treturn 1u32;\n",
      "\t\t\t\t\t\t\t\t}\n",
      "\t\t\t\t\t\t\t} else {\n",
      "\t\t\t\t\t\t\t\treturn 0u32;\n",
      "\t\t\t\t\t\t\t}\n",
      "\t\t\t\t\t\t}\n",
      "\t\t\t\t\t} else {\n",
      "\t\t\t\t\t\tif (p5 < 3u32) {\n",
      "\t\t\t\t\t\t\tif (p5 < 1u32) {\n",
      "\t\t\t\t\t\t\t\treturn 1u32;\n",
      "\t\t\t\t\t\t\t} else {\n",
      "\t\t\t\t\t\t\t\treturn 0u32;\n",
      "\t\t\t\t\t\t\t}\n",
      "\t\t\t\t\t\t} else {\n",
      "\t\t\t\t\t\t\tif (p4 < 179u32) {\n",
      "\t\t\t\t\t\t\t\treturn 1u32;\n",
      "\t\t\t\t\t\t\t} else {\n",
      "\t\t\t\t\t\t\t\tif (p4 < 186u32) {\n",
      "\t\t\t\t\t\t\t\t\tif (p4 <= 182u32) {\n",
      "\t\t\t\t\t\t\t\t\t\tif (p5 < 5u32) {\n",
      "\t\t\t\t\t\t\t\t\t\t\treturn 0u32;\n",
      "\t\t\t\t\t\t\t\t\t\t} else {\n",
      "\t\t\t\t\t\t\t\t\t\t\treturn 1u32;\n",
      "\t\t\t\t\t\t\t\t\t\t}\n",
      "\t\t\t\t\t\t\t\t\t} else {\n",
      "\t\t\t\t\t\t\t\t\t\treturn 0u32;\n",
      "\t\t\t\t\t\t\t\t\t}\n",
      "\t\t\t\t\t\t\t\t} else {\n",
      "\t\t\t\t\t\t\t\t\tif (p4 < 195u32) {\n",
      "\t\t\t\t\t\t\t\t\t\tif (p3 < 1u32) {\n",
      "\t\t\t\t\t\t\t\t\t\t\treturn 1u32;\n",
      "\t\t\t\t\t\t\t\t\t\t} else {\n",
      "\t\t\t\t\t\t\t\t\t\t\tif (p4 <= 188u32) {\n",
      "\t\t\t\t\t\t\t\t\t\t\t\treturn 0u32;\n",
      "\t\t\t\t\t\t\t\t\t\t\t} else {\n",
      "\t\t\t\t\t\t\t\t\t\t\t\treturn 1u32;\n",
      "\t\t\t\t\t\t\t\t\t\t\t}\n",
      "\t\t\t\t\t\t\t\t\t\t}\n",
      "\t\t\t\t\t\t\t\t\t} else {\n",
      "\t\t\t\t\t\t\t\t\t\tif (p4 < 198u32) {\n",
      "\t\t\t\t\t\t\t\t\t\t\tif (p5 < 5u32) {\n",
      "\t\t\t\t\t\t\t\t\t\t\t\treturn 0u32;\n",
      "\t\t\t\t\t\t\t\t\t\t\t} else {\n",
      "\t\t\t\t\t\t\t\t\t\t\t\tif (p4 < 197u32) {\n",
      "\t\t\t\t\t\t\t\t\t\t\t\t\treturn 1u32;\n",
      "\t\t\t\t\t\t\t\t\t\t\t\t} else {\n",
      "\t\t\t\t\t\t\t\t\t\t\t\t\treturn 0u32;\n",
      "\t\t\t\t\t\t\t\t\t\t\t\t}\n",
      "\t\t\t\t\t\t\t\t\t\t\t}\n",
      "\t\t\t\t\t\t\t\t\t\t} else {\n",
      "\t\t\t\t\t\t\t\t\t\t\treturn 1u32;\n",
      "\t\t\t\t\t\t\t\t\t\t}\n",
      "\t\t\t\t\t\t\t\t\t}\n",
      "\t\t\t\t\t\t\t\t}\n",
      "\t\t\t\t\t\t\t}\n",
      "\t\t\t\t\t\t}\n",
      "\t\t\t\t\t}\n",
      "\t\t\t\t}\n",
      "\t\t\t} else {\n",
      "\t\t\t\tif (p4 <= 136u32) {\n",
      "\t\t\t\t\treturn 0u32;\n",
      "\t\t\t\t} else {\n",
      "\t\t\t\t\tif (p4 <= 141u32) {\n",
      "\t\t\t\t\t\treturn 1u32;\n",
      "\t\t\t\t\t} else {\n",
      "\t\t\t\t\t\treturn 0u32;\n",
      "\t\t\t\t\t}\n",
      "\t\t\t\t}\n",
      "\t\t\t}\n",
      "\t\t} else {\n",
      "\t\t\treturn 0u32;\n",
      "\t\t}\n",
      "\t}\n",
      "}\n"
     ]
    }
   ],
   "source": [
    "import numpy as np\n",
    "import math\n",
    "from sklearn import tree\n",
    "\n",
    "def dt_to_leo_code(clf: tree.DecisionTreeClassifier, program_name: str):\n",
    "  n_nodes = clf.tree_.node_count\n",
    "  children_left = clf.tree_.children_left\n",
    "  children_right = clf.tree_.children_right\n",
    "  feature = clf.tree_.feature\n",
    "  threshold = clf.tree_.threshold\n",
    "  values = [np.argmax(value[0]) for value in clf.tree_.value]\n",
    "\n",
    "  node_depth = np.zeros(shape=n_nodes, dtype=np.int64)\n",
    "  is_leaves = np.zeros(shape=n_nodes, dtype=bool)\n",
    "  stack = [(0, 0)] \n",
    "  while len(stack) > 0:\n",
    "      node_id, depth = stack.pop()\n",
    "      node_depth[node_id] = depth\n",
    "      is_split_node = children_left[node_id] != children_right[node_id]\n",
    "      if is_split_node:\n",
    "          stack.append((children_left[node_id], depth + 1))\n",
    "          stack.append((children_right[node_id], depth + 1))\n",
    "      else:\n",
    "          is_leaves[node_id] = True\n",
    "\n",
    "\n",
    "  def build_code(i):\n",
    "    if is_leaves[i]:\n",
    "      return node_depth[i] * \"\\t\" + f\"return {values[i]}u32;\\n\"\n",
    "    leo_code = \"\"\n",
    "    leo_threshold = math.ceil(threshold[i])\n",
    "    comp = \"<\" if int(threshold[i]) != threshold[i] else \"<=\"\n",
    "    leo_code += node_depth[i] * \"\\t\" + f\"if (p{(feature[i] + 1)} {comp} {leo_threshold}u32) {{\\n\"\n",
    "    leo_code += build_code(children_left[i])\n",
    "    leo_code += node_depth[i] * \"\\t\" + \"} else {\\n\"\n",
    "    leo_code += build_code(children_right[i])\n",
    "    leo_code += node_depth[i] * \"\\t\" + \"}\\n\" \n",
    "    return leo_code\n",
    "\n",
    "  leo_code = f\"program {program_name} {{\\n\" \n",
    "  leo_code += \"\\t\" + \"// Code auto generated from DecisionTreeClassifier using dt_to_leo_code.py \\n\"\n",
    "  leo_code += \"\\t\" + \"transition main(\"\n",
    "  for i in range(1, clf.n_features_in_ + 1):\n",
    "    leo_code += f\"p{i}: u32\" + (\", \" if i != clf.n_features_in_ else \") -> public u32 {\\n\")\n",
    "\n",
    "  node_depth += 2\n",
    "  leo_code += build_code(0)\n",
    "  leo_code += \"\\t}\\n}\" \n",
    "  return leo_code\n",
    "\n",
    "print(dt_to_leo_code(clf, \"dt.aleo\"))"
   ]
  },
  {
   "cell_type": "code",
   "execution_count": 15,
   "metadata": {
    "id": "DmEf8BKs5EQl"
   },
   "outputs": [
    {
     "name": "stdout",
     "output_type": "stream",
     "text": [
      "String saved to zkkyc_3lzgy5.aleo\n"
     ]
    }
   ],
   "source": [
    "leo_program_name = \"zkkyc_3lzgy5.aleo\"\n",
    "\n",
    "# Ask for the string to save\n",
    "generated_leo_codes = dt_to_leo_code(clf, leo_program_name)\n",
    "\n",
    "# Define the file path and name\n",
    "file_path = '../src/main.leo'\n",
    "\n",
    "\n",
    "# Using a with statement to open the file and ensure proper closure\n",
    "with open(file_path, 'w') as file:\n",
    "    file.write(generated_leo_codes)\n",
    "\n",
    "print(f\"String saved to {leo_program_name}\")\n"
   ]
  }
 ],
 "metadata": {
  "colab": {
   "provenance": []
  },
  "kernelspec": {
   "display_name": "Python 3 (ipykernel)",
   "language": "python",
   "name": "python3"
  },
  "language_info": {
   "codemirror_mode": {
    "name": "ipython",
    "version": 3
   },
   "file_extension": ".py",
   "mimetype": "text/x-python",
   "name": "python",
   "nbconvert_exporter": "python",
   "pygments_lexer": "ipython3",
   "version": "3.11.3"
  }
 },
 "nbformat": 4,
 "nbformat_minor": 1
}
